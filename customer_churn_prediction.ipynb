{
  "nbformat": 4,
  "nbformat_minor": 0,
  "metadata": {
    "kernelspec": {
      "display_name": "Python 3",
      "language": "python",
      "name": "python3"
    },
    "language_info": {
      "codemirror_mode": {
        "name": "ipython",
        "version": 3
      },
      "file_extension": ".py",
      "mimetype": "text/x-python",
      "name": "python",
      "nbconvert_exporter": "python",
      "pygments_lexer": "ipython3",
      "version": "3.7.6"
    },
    "colab": {
      "name": "customer churn prediction.ipynb",
      "provenance": [],
      "include_colab_link": true
    }
  },
  "cells": [
    {
      "cell_type": "markdown",
      "metadata": {
        "id": "view-in-github",
        "colab_type": "text"
      },
      "source": [
        "<a href=\"https://colab.research.google.com/github/ranjani5/customer-churn-prediction/blob/main/customer_churn_prediction.ipynb\" target=\"_parent\"><img src=\"https://colab.research.google.com/assets/colab-badge.svg\" alt=\"Open In Colab\"/></a>"
      ]
    },
    {
      "cell_type": "code",
      "metadata": {
        "id": "FC_4bSML-LpX"
      },
      "source": [
        "import pandas as pd\n",
        "import numpy as np\n",
        "import matplotlib.pyplot as plt\n",
        "import seaborn as sns"
      ],
      "execution_count": null,
      "outputs": []
    },
    {
      "cell_type": "code",
      "metadata": {
        "id": "le26H9m5-Lpk",
        "outputId": "fc1448d3-b3d8-4a06-bddb-6fe6cbe8a78f"
      },
      "source": [
        "data = pd.read_csv('customer_churn.csv')\n",
        "data.head()"
      ],
      "execution_count": null,
      "outputs": [
        {
          "output_type": "execute_result",
          "data": {
            "text/html": [
              "<div>\n",
              "<style scoped>\n",
              "    .dataframe tbody tr th:only-of-type {\n",
              "        vertical-align: middle;\n",
              "    }\n",
              "\n",
              "    .dataframe tbody tr th {\n",
              "        vertical-align: top;\n",
              "    }\n",
              "\n",
              "    .dataframe thead th {\n",
              "        text-align: right;\n",
              "    }\n",
              "</style>\n",
              "<table border=\"1\" class=\"dataframe\">\n",
              "  <thead>\n",
              "    <tr style=\"text-align: right;\">\n",
              "      <th></th>\n",
              "      <th>Names</th>\n",
              "      <th>Age</th>\n",
              "      <th>Total_Purchase</th>\n",
              "      <th>Account_Manager</th>\n",
              "      <th>Years</th>\n",
              "      <th>Num_Sites</th>\n",
              "      <th>Onboard_date</th>\n",
              "      <th>Location</th>\n",
              "      <th>Company</th>\n",
              "      <th>Churn</th>\n",
              "    </tr>\n",
              "  </thead>\n",
              "  <tbody>\n",
              "    <tr>\n",
              "      <th>0</th>\n",
              "      <td>Cameron Williams</td>\n",
              "      <td>42.0</td>\n",
              "      <td>11066.80</td>\n",
              "      <td>0</td>\n",
              "      <td>7.22</td>\n",
              "      <td>8.0</td>\n",
              "      <td>2013-08-30 07:00:40</td>\n",
              "      <td>10265 Elizabeth Mission Barkerburgh, AK 89518</td>\n",
              "      <td>Harvey LLC</td>\n",
              "      <td>1</td>\n",
              "    </tr>\n",
              "    <tr>\n",
              "      <th>1</th>\n",
              "      <td>Kevin Mueller</td>\n",
              "      <td>41.0</td>\n",
              "      <td>11916.22</td>\n",
              "      <td>0</td>\n",
              "      <td>6.50</td>\n",
              "      <td>11.0</td>\n",
              "      <td>2013-08-13 00:38:46</td>\n",
              "      <td>6157 Frank Gardens Suite 019 Carloshaven, RI 1...</td>\n",
              "      <td>Wilson PLC</td>\n",
              "      <td>1</td>\n",
              "    </tr>\n",
              "    <tr>\n",
              "      <th>2</th>\n",
              "      <td>Eric Lozano</td>\n",
              "      <td>38.0</td>\n",
              "      <td>12884.75</td>\n",
              "      <td>0</td>\n",
              "      <td>6.67</td>\n",
              "      <td>12.0</td>\n",
              "      <td>2016-06-29 06:20:07</td>\n",
              "      <td>1331 Keith Court Alyssahaven, DE 90114</td>\n",
              "      <td>Miller, Johnson and Wallace</td>\n",
              "      <td>1</td>\n",
              "    </tr>\n",
              "    <tr>\n",
              "      <th>3</th>\n",
              "      <td>Phillip White</td>\n",
              "      <td>42.0</td>\n",
              "      <td>8010.76</td>\n",
              "      <td>0</td>\n",
              "      <td>6.71</td>\n",
              "      <td>10.0</td>\n",
              "      <td>2014-04-22 12:43:12</td>\n",
              "      <td>13120 Daniel Mount Angelabury, WY 30645-4695</td>\n",
              "      <td>Smith Inc</td>\n",
              "      <td>1</td>\n",
              "    </tr>\n",
              "    <tr>\n",
              "      <th>4</th>\n",
              "      <td>Cynthia Norton</td>\n",
              "      <td>37.0</td>\n",
              "      <td>9191.58</td>\n",
              "      <td>0</td>\n",
              "      <td>5.56</td>\n",
              "      <td>9.0</td>\n",
              "      <td>2016-01-19 15:31:15</td>\n",
              "      <td>765 Tricia Row Karenshire, MH 71730</td>\n",
              "      <td>Love-Jones</td>\n",
              "      <td>1</td>\n",
              "    </tr>\n",
              "  </tbody>\n",
              "</table>\n",
              "</div>"
            ],
            "text/plain": [
              "              Names   Age  Total_Purchase  Account_Manager  Years  Num_Sites  \\\n",
              "0  Cameron Williams  42.0        11066.80                0   7.22        8.0   \n",
              "1     Kevin Mueller  41.0        11916.22                0   6.50       11.0   \n",
              "2       Eric Lozano  38.0        12884.75                0   6.67       12.0   \n",
              "3     Phillip White  42.0         8010.76                0   6.71       10.0   \n",
              "4    Cynthia Norton  37.0         9191.58                0   5.56        9.0   \n",
              "\n",
              "          Onboard_date                                           Location  \\\n",
              "0  2013-08-30 07:00:40      10265 Elizabeth Mission Barkerburgh, AK 89518   \n",
              "1  2013-08-13 00:38:46  6157 Frank Gardens Suite 019 Carloshaven, RI 1...   \n",
              "2  2016-06-29 06:20:07             1331 Keith Court Alyssahaven, DE 90114   \n",
              "3  2014-04-22 12:43:12       13120 Daniel Mount Angelabury, WY 30645-4695   \n",
              "4  2016-01-19 15:31:15                765 Tricia Row Karenshire, MH 71730   \n",
              "\n",
              "                       Company  Churn  \n",
              "0                   Harvey LLC      1  \n",
              "1                   Wilson PLC      1  \n",
              "2  Miller, Johnson and Wallace      1  \n",
              "3                    Smith Inc      1  \n",
              "4                   Love-Jones      1  "
            ]
          },
          "metadata": {
            "tags": []
          },
          "execution_count": 2
        }
      ]
    },
    {
      "cell_type": "code",
      "metadata": {
        "id": "2wJAGXNW-Lpn",
        "outputId": "6f7d653c-b94e-4841-9e45-4c881f8b7f16"
      },
      "source": [
        "data.info()"
      ],
      "execution_count": null,
      "outputs": [
        {
          "output_type": "stream",
          "text": [
            "<class 'pandas.core.frame.DataFrame'>\n",
            "RangeIndex: 900 entries, 0 to 899\n",
            "Data columns (total 10 columns):\n",
            " #   Column           Non-Null Count  Dtype  \n",
            "---  ------           --------------  -----  \n",
            " 0   Names            900 non-null    object \n",
            " 1   Age              900 non-null    float64\n",
            " 2   Total_Purchase   900 non-null    float64\n",
            " 3   Account_Manager  900 non-null    int64  \n",
            " 4   Years            900 non-null    float64\n",
            " 5   Num_Sites        900 non-null    float64\n",
            " 6   Onboard_date     900 non-null    object \n",
            " 7   Location         900 non-null    object \n",
            " 8   Company          900 non-null    object \n",
            " 9   Churn            900 non-null    int64  \n",
            "dtypes: float64(4), int64(2), object(4)\n",
            "memory usage: 56.3+ KB\n"
          ],
          "name": "stdout"
        }
      ]
    },
    {
      "cell_type": "markdown",
      "metadata": {
        "id": "HBPPx3RX-Lpo"
      },
      "source": [
        "### Exploratory Data Analysis : EDA"
      ]
    },
    {
      "cell_type": "code",
      "metadata": {
        "id": "7ImIPIt0-Lpp",
        "outputId": "1a3885cf-3c17-4e45-8b54-3216a4340b7e"
      },
      "source": [
        "data.isna().any()"
      ],
      "execution_count": null,
      "outputs": [
        {
          "output_type": "execute_result",
          "data": {
            "text/plain": [
              "Names              False\n",
              "Age                False\n",
              "Total_Purchase     False\n",
              "Account_Manager    False\n",
              "Years              False\n",
              "Num_Sites          False\n",
              "Onboard_date       False\n",
              "Location           False\n",
              "Company            False\n",
              "Churn              False\n",
              "dtype: bool"
            ]
          },
          "metadata": {
            "tags": []
          },
          "execution_count": 4
        }
      ]
    },
    {
      "cell_type": "code",
      "metadata": {
        "id": "6EjtQL6N-Lpq",
        "outputId": "bd4ecbef-037d-470a-d163-efdf253de712"
      },
      "source": [
        "col = list(data.columns) # Making a List of Column Names to Change Each Column Names to Camel Case.\n",
        "col"
      ],
      "execution_count": null,
      "outputs": [
        {
          "output_type": "execute_result",
          "data": {
            "text/plain": [
              "['Names',\n",
              " 'Age',\n",
              " 'Total_Purchase',\n",
              " 'Account_Manager',\n",
              " 'Years',\n",
              " 'Num_Sites',\n",
              " 'Onboard_date',\n",
              " 'Location',\n",
              " 'Company',\n",
              " 'Churn']"
            ]
          },
          "metadata": {
            "tags": []
          },
          "execution_count": 5
        }
      ]
    },
    {
      "cell_type": "code",
      "metadata": {
        "id": "oFOlBnOy-Lpr",
        "outputId": "97e54bda-131f-4b4d-d0df-963bfa7f2d06"
      },
      "source": [
        "data.columns"
      ],
      "execution_count": null,
      "outputs": [
        {
          "output_type": "execute_result",
          "data": {
            "text/plain": [
              "Index(['Names', 'Age', 'Total_Purchase', 'Account_Manager', 'Years',\n",
              "       'Num_Sites', 'Onboard_date', 'Location', 'Company', 'Churn'],\n",
              "      dtype='object')"
            ]
          },
          "metadata": {
            "tags": []
          },
          "execution_count": 6
        }
      ]
    },
    {
      "cell_type": "code",
      "metadata": {
        "id": "Jj9gGZJV-Lps",
        "outputId": "33ce7b5a-48bd-4ab9-e44c-e7149a3ad980"
      },
      "source": [
        "binary_features = []\n",
        "\n",
        "for col in data.columns :\n",
        "    if data[col].value_counts().shape[0] == 2 :\n",
        "        binary_features.append(col)\n",
        "\n",
        "print(f'Binary Feature: {binary_features}')"
      ],
      "execution_count": null,
      "outputs": [
        {
          "output_type": "stream",
          "text": [
            "Binary Feature: ['Account_Manager', 'Churn']\n"
          ],
          "name": "stdout"
        }
      ]
    },
    {
      "cell_type": "code",
      "metadata": {
        "id": "yW1ctoj2-Lpt",
        "outputId": "6443189c-5b0a-4148-b76d-c8fb42674662"
      },
      "source": [
        "fig, axes = plt.subplots(nrows = 2, ncols = 3, figsize = (15,10))\n",
        "\n",
        "sns.countplot(x ='Account_Manager' , data = data, hue = 'Account_Manager', ax = axes[0,0])\n",
        "sns.countplot(x = 'Churn', data = data, hue = 'Churn', ax = axes[0,1])"
      ],
      "execution_count": null,
      "outputs": [
        {
          "output_type": "execute_result",
          "data": {
            "text/plain": [
              "<matplotlib.axes._subplots.AxesSubplot at 0xd06b970>"
            ]
          },
          "metadata": {
            "tags": []
          },
          "execution_count": 8
        },
        {
          "output_type": "display_data",
          "data": {
            "image/png": "[encoded data removed]",
            "text/plain": [
              "<Figure size 1080x720 with 6 Axes>"
            ]
          },
          "metadata": {
            "tags": [],
            "needs_background": "light"
          }
        }
      ]
    },
    {
      "cell_type": "code",
      "metadata": {
        "id": "UfaRkZnm-Lpu",
        "outputId": "dfb8a6cd-cd03-423b-c542-feaeb526b066"
      },
      "source": [
        "data['Churn'].value_counts()"
      ],
      "execution_count": null,
      "outputs": [
        {
          "output_type": "execute_result",
          "data": {
            "text/plain": [
              "0    750\n",
              "1    150\n",
              "Name: Churn, dtype: int64"
            ]
          },
          "metadata": {
            "tags": []
          },
          "execution_count": 9
        }
      ]
    },
    {
      "cell_type": "code",
      "metadata": {
        "id": "d0afQkKN-Lpu",
        "outputId": "2f6f50d3-3156-4606-bca3-e4b29857393c"
      },
      "source": [
        "data.groupby('Account_Manager')[['Churn']].mean()"
      ],
      "execution_count": null,
      "outputs": [
        {
          "output_type": "execute_result",
          "data": {
            "text/html": [
              "<div>\n",
              "<style scoped>\n",
              "    .dataframe tbody tr th:only-of-type {\n",
              "        vertical-align: middle;\n",
              "    }\n",
              "\n",
              "    .dataframe tbody tr th {\n",
              "        vertical-align: top;\n",
              "    }\n",
              "\n",
              "    .dataframe thead th {\n",
              "        text-align: right;\n",
              "    }\n",
              "</style>\n",
              "<table border=\"1\" class=\"dataframe\">\n",
              "  <thead>\n",
              "    <tr style=\"text-align: right;\">\n",
              "      <th></th>\n",
              "      <th>Churn</th>\n",
              "    </tr>\n",
              "    <tr>\n",
              "      <th>Account_Manager</th>\n",
              "      <th></th>\n",
              "    </tr>\n",
              "  </thead>\n",
              "  <tbody>\n",
              "    <tr>\n",
              "      <th>0</th>\n",
              "      <td>0.141328</td>\n",
              "    </tr>\n",
              "    <tr>\n",
              "      <th>1</th>\n",
              "      <td>0.193995</td>\n",
              "    </tr>\n",
              "  </tbody>\n",
              "</table>\n",
              "</div>"
            ],
            "text/plain": [
              "                    Churn\n",
              "Account_Manager          \n",
              "0                0.141328\n",
              "1                0.193995"
            ]
          },
          "metadata": {
            "tags": []
          },
          "execution_count": 10
        }
      ]
    },
    {
      "cell_type": "code",
      "metadata": {
        "id": "XyGpd5oG-Lpv",
        "outputId": "6284cf99-bfb8-4f94-fae0-6c06168f9cf4"
      },
      "source": [
        "list(data.select_dtypes('number').columns)"
      ],
      "execution_count": null,
      "outputs": [
        {
          "output_type": "execute_result",
          "data": {
            "text/plain": [
              "['Age', 'Total_Purchase', 'Account_Manager', 'Years', 'Num_Sites', 'Churn']"
            ]
          },
          "metadata": {
            "tags": []
          },
          "execution_count": 12
        }
      ]
    },
    {
      "cell_type": "code",
      "metadata": {
        "id": "c4Z1vo2Y-Lpw",
        "outputId": "6b3e66c1-5699-41f4-a23e-eac2445a369f"
      },
      "source": [
        "fig, axes = plt.subplots(nrows=1, ncols=2, figsize = (20,5))\n",
        "\n",
        "sns.distplot(data['Total_Purchase'], ax = axes[0])\n",
        "sns.distplot(data['Age'], ax = axes[1]);"
      ],
      "execution_count": null,
      "outputs": [
        {
          "output_type": "display_data",
          "data": {
            "image/png": "[encoded data removed]",
            "text/plain": [
              "<Figure size 1440x360 with 2 Axes>"
            ]
          },
          "metadata": {
            "tags": [],
            "needs_background": "light"
          }
        }
      ]
    },
    {
      "cell_type": "code",
      "metadata": {
        "id": "e7Sp1CRZ-Lpw",
        "outputId": "0c993c88-957c-4935-fc5c-b6517c70980f"
      },
      "source": [
        "fig, axes = plt.subplots(nrows=1, ncols=2, figsize = (20,5))\n",
        "\n",
        "sns.distplot(data['Years'], ax = axes[0])\n",
        "sns.distplot(data['Num_Sites'], ax = axes[1]);"
      ],
      "execution_count": null,
      "outputs": [
        {
          "output_type": "display_data",
          "data": {
            "image/png": "[encoded data removed]",
            "text/plain": [
              "<Figure size 1440x360 with 2 Axes>"
            ]
          },
          "metadata": {
            "tags": [],
            "needs_background": "light"
          }
        }
      ]
    },
    {
      "cell_type": "markdown",
      "metadata": {
        "id": "gBHmcSx0-Lpx"
      },
      "source": [
        "## Data Preprocessing\n",
        "\n",
        "Encoding Categorical Data to Numeric Data,\n",
        "Scaling Continuous Variables"
      ]
    },
    {
      "cell_type": "code",
      "metadata": {
        "id": "5sX9nJzM-Lpy",
        "outputId": "c693846b-a006-4ce7-f6e4-53d1c6b0594e"
      },
      "source": [
        "categorical_columns = list(data.select_dtypes('object').columns)\n",
        "categorical_columns"
      ],
      "execution_count": null,
      "outputs": [
        {
          "output_type": "execute_result",
          "data": {
            "text/plain": [
              "['Names', 'Onboard_date', 'Location', 'Company']"
            ]
          },
          "metadata": {
            "tags": []
          },
          "execution_count": 15
        }
      ]
    },
    {
      "cell_type": "code",
      "metadata": {
        "id": "LEjumR_K-Lpy",
        "outputId": "a34f4314-5716-4859-e659-7cf6aa7d2107"
      },
      "source": [
        "X = pd.get_dummies(data, columns = categorical_columns, drop_first = True)\n",
        "X.head()"
      ],
      "execution_count": null,
      "outputs": [
        {
          "output_type": "execute_result",
          "data": {
            "text/html": [
              "<div>\n",
              "<style scoped>\n",
              "    .dataframe tbody tr th:only-of-type {\n",
              "        vertical-align: middle;\n",
              "    }\n",
              "\n",
              "    .dataframe tbody tr th {\n",
              "        vertical-align: top;\n",
              "    }\n",
              "\n",
              "    .dataframe thead th {\n",
              "        text-align: right;\n",
              "    }\n",
              "</style>\n",
              "<table border=\"1\" class=\"dataframe\">\n",
              "  <thead>\n",
              "    <tr style=\"text-align: right;\">\n",
              "      <th></th>\n",
              "      <th>Age</th>\n",
              "      <th>Total_Purchase</th>\n",
              "      <th>Account_Manager</th>\n",
              "      <th>Years</th>\n",
              "      <th>Num_Sites</th>\n",
              "      <th>Churn</th>\n",
              "      <th>Names_Aaron Meyer</th>\n",
              "      <th>Names_Aaron West</th>\n",
              "      <th>Names_Abigail Gonzalez</th>\n",
              "      <th>Names_Abigail Jennings</th>\n",
              "      <th>...</th>\n",
              "      <th>Company_Yates, Martinez and Cox</th>\n",
              "      <th>Company_Young and Sons</th>\n",
              "      <th>Company_Young, Porter and Hill</th>\n",
              "      <th>Company_Young-Dunn</th>\n",
              "      <th>Company_Young-Newman</th>\n",
              "      <th>Company_Yu-Murillo</th>\n",
              "      <th>Company_Zamora-Cherry</th>\n",
              "      <th>Company_Zhang-Brown</th>\n",
              "      <th>Company_Zimmerman Group</th>\n",
              "      <th>Company_Zuniga, Clark and Shaffer</th>\n",
              "    </tr>\n",
              "  </thead>\n",
              "  <tbody>\n",
              "    <tr>\n",
              "      <th>0</th>\n",
              "      <td>42.0</td>\n",
              "      <td>11066.80</td>\n",
              "      <td>0</td>\n",
              "      <td>7.22</td>\n",
              "      <td>8.0</td>\n",
              "      <td>1</td>\n",
              "      <td>0</td>\n",
              "      <td>0</td>\n",
              "      <td>0</td>\n",
              "      <td>0</td>\n",
              "      <td>...</td>\n",
              "      <td>0</td>\n",
              "      <td>0</td>\n",
              "      <td>0</td>\n",
              "      <td>0</td>\n",
              "      <td>0</td>\n",
              "      <td>0</td>\n",
              "      <td>0</td>\n",
              "      <td>0</td>\n",
              "      <td>0</td>\n",
              "      <td>0</td>\n",
              "    </tr>\n",
              "    <tr>\n",
              "      <th>1</th>\n",
              "      <td>41.0</td>\n",
              "      <td>11916.22</td>\n",
              "      <td>0</td>\n",
              "      <td>6.50</td>\n",
              "      <td>11.0</td>\n",
              "      <td>1</td>\n",
              "      <td>0</td>\n",
              "      <td>0</td>\n",
              "      <td>0</td>\n",
              "      <td>0</td>\n",
              "      <td>...</td>\n",
              "      <td>0</td>\n",
              "      <td>0</td>\n",
              "      <td>0</td>\n",
              "      <td>0</td>\n",
              "      <td>0</td>\n",
              "      <td>0</td>\n",
              "      <td>0</td>\n",
              "      <td>0</td>\n",
              "      <td>0</td>\n",
              "      <td>0</td>\n",
              "    </tr>\n",
              "    <tr>\n",
              "      <th>2</th>\n",
              "      <td>38.0</td>\n",
              "      <td>12884.75</td>\n",
              "      <td>0</td>\n",
              "      <td>6.67</td>\n",
              "      <td>12.0</td>\n",
              "      <td>1</td>\n",
              "      <td>0</td>\n",
              "      <td>0</td>\n",
              "      <td>0</td>\n",
              "      <td>0</td>\n",
              "      <td>...</td>\n",
              "      <td>0</td>\n",
              "      <td>0</td>\n",
              "      <td>0</td>\n",
              "      <td>0</td>\n",
              "      <td>0</td>\n",
              "      <td>0</td>\n",
              "      <td>0</td>\n",
              "      <td>0</td>\n",
              "      <td>0</td>\n",
              "      <td>0</td>\n",
              "    </tr>\n",
              "    <tr>\n",
              "      <th>3</th>\n",
              "      <td>42.0</td>\n",
              "      <td>8010.76</td>\n",
              "      <td>0</td>\n",
              "      <td>6.71</td>\n",
              "      <td>10.0</td>\n",
              "      <td>1</td>\n",
              "      <td>0</td>\n",
              "      <td>0</td>\n",
              "      <td>0</td>\n",
              "      <td>0</td>\n",
              "      <td>...</td>\n",
              "      <td>0</td>\n",
              "      <td>0</td>\n",
              "      <td>0</td>\n",
              "      <td>0</td>\n",
              "      <td>0</td>\n",
              "      <td>0</td>\n",
              "      <td>0</td>\n",
              "      <td>0</td>\n",
              "      <td>0</td>\n",
              "      <td>0</td>\n",
              "    </tr>\n",
              "    <tr>\n",
              "      <th>4</th>\n",
              "      <td>37.0</td>\n",
              "      <td>9191.58</td>\n",
              "      <td>0</td>\n",
              "      <td>5.56</td>\n",
              "      <td>9.0</td>\n",
              "      <td>1</td>\n",
              "      <td>0</td>\n",
              "      <td>0</td>\n",
              "      <td>0</td>\n",
              "      <td>0</td>\n",
              "      <td>...</td>\n",
              "      <td>0</td>\n",
              "      <td>0</td>\n",
              "      <td>0</td>\n",
              "      <td>0</td>\n",
              "      <td>0</td>\n",
              "      <td>0</td>\n",
              "      <td>0</td>\n",
              "      <td>0</td>\n",
              "      <td>0</td>\n",
              "      <td>0</td>\n",
              "    </tr>\n",
              "  </tbody>\n",
              "</table>\n",
              "<p>5 rows × 3574 columns</p>\n",
              "</div>"
            ],
            "text/plain": [
              "    Age  Total_Purchase  Account_Manager  Years  Num_Sites  Churn  \\\n",
              "0  42.0        11066.80                0   7.22        8.0      1   \n",
              "1  41.0        11916.22                0   6.50       11.0      1   \n",
              "2  38.0        12884.75                0   6.67       12.0      1   \n",
              "3  42.0         8010.76                0   6.71       10.0      1   \n",
              "4  37.0         9191.58                0   5.56        9.0      1   \n",
              "\n",
              "   Names_Aaron Meyer  Names_Aaron West  Names_Abigail Gonzalez  \\\n",
              "0                  0                 0                       0   \n",
              "1                  0                 0                       0   \n",
              "2                  0                 0                       0   \n",
              "3                  0                 0                       0   \n",
              "4                  0                 0                       0   \n",
              "\n",
              "   Names_Abigail Jennings  ...  Company_Yates, Martinez and Cox  \\\n",
              "0                       0  ...                                0   \n",
              "1                       0  ...                                0   \n",
              "2                       0  ...                                0   \n",
              "3                       0  ...                                0   \n",
              "4                       0  ...                                0   \n",
              "\n",
              "   Company_Young and Sons  Company_Young, Porter and Hill  Company_Young-Dunn  \\\n",
              "0                       0                               0                   0   \n",
              "1                       0                               0                   0   \n",
              "2                       0                               0                   0   \n",
              "3                       0                               0                   0   \n",
              "4                       0                               0                   0   \n",
              "\n",
              "   Company_Young-Newman  Company_Yu-Murillo  Company_Zamora-Cherry  \\\n",
              "0                     0                   0                      0   \n",
              "1                     0                   0                      0   \n",
              "2                     0                   0                      0   \n",
              "3                     0                   0                      0   \n",
              "4                     0                   0                      0   \n",
              "\n",
              "   Company_Zhang-Brown  Company_Zimmerman Group  \\\n",
              "0                    0                        0   \n",
              "1                    0                        0   \n",
              "2                    0                        0   \n",
              "3                    0                        0   \n",
              "4                    0                        0   \n",
              "\n",
              "   Company_Zuniga, Clark and Shaffer  \n",
              "0                                  0  \n",
              "1                                  0  \n",
              "2                                  0  \n",
              "3                                  0  \n",
              "4                                  0  \n",
              "\n",
              "[5 rows x 3574 columns]"
            ]
          },
          "metadata": {
            "tags": []
          },
          "execution_count": 16
        }
      ]
    },
    {
      "cell_type": "markdown",
      "metadata": {
        "id": "GdasmdZi-Lpz"
      },
      "source": [
        "### Min Max Scaling"
      ]
    },
    {
      "cell_type": "code",
      "metadata": {
        "id": "vbgsGOJd-Lp0",
        "outputId": "a5d99f99-6a69-4fe6-9e57-484bd6bf1f03"
      },
      "source": [
        "from sklearn.preprocessing import MinMaxScaler\n",
        "\n",
        "scaler = MinMaxScaler()\n",
        "\n",
        "X['Age'] = scaler.fit_transform(data[['Age']])\n",
        "\n",
        "X['Total_Purchase'] = scaler.fit_transform(data[['Total_Purchase']])\n",
        "\n",
        "X['Years'] = scaler.fit_transform(data[['Years']])\n",
        "\n",
        "X['Num_Sites'] = scaler.fit_transform(data[['Num_Sites']])\n",
        "\n",
        "X.head()"
      ],
      "execution_count": null,
      "outputs": [
        {
          "output_type": "execute_result",
          "data": {
            "text/html": [
              "<div>\n",
              "<style scoped>\n",
              "    .dataframe tbody tr th:only-of-type {\n",
              "        vertical-align: middle;\n",
              "    }\n",
              "\n",
              "    .dataframe tbody tr th {\n",
              "        vertical-align: top;\n",
              "    }\n",
              "\n",
              "    .dataframe thead th {\n",
              "        text-align: right;\n",
              "    }\n",
              "</style>\n",
              "<table border=\"1\" class=\"dataframe\">\n",
              "  <thead>\n",
              "    <tr style=\"text-align: right;\">\n",
              "      <th></th>\n",
              "      <th>Age</th>\n",
              "      <th>Total_Purchase</th>\n",
              "      <th>Account_Manager</th>\n",
              "      <th>Years</th>\n",
              "      <th>Num_Sites</th>\n",
              "      <th>Churn</th>\n",
              "      <th>Names_Aaron Meyer</th>\n",
              "      <th>Names_Aaron West</th>\n",
              "      <th>Names_Abigail Gonzalez</th>\n",
              "      <th>Names_Abigail Jennings</th>\n",
              "      <th>...</th>\n",
              "      <th>Company_Yates, Martinez and Cox</th>\n",
              "      <th>Company_Young and Sons</th>\n",
              "      <th>Company_Young, Porter and Hill</th>\n",
              "      <th>Company_Young-Dunn</th>\n",
              "      <th>Company_Young-Newman</th>\n",
              "      <th>Company_Yu-Murillo</th>\n",
              "      <th>Company_Zamora-Cherry</th>\n",
              "      <th>Company_Zhang-Brown</th>\n",
              "      <th>Company_Zimmerman Group</th>\n",
              "      <th>Company_Zuniga, Clark and Shaffer</th>\n",
              "    </tr>\n",
              "  </thead>\n",
              "  <tbody>\n",
              "    <tr>\n",
              "      <th>0</th>\n",
              "      <td>0.465116</td>\n",
              "      <td>0.611781</td>\n",
              "      <td>0</td>\n",
              "      <td>0.763190</td>\n",
              "      <td>0.454545</td>\n",
              "      <td>1</td>\n",
              "      <td>0</td>\n",
              "      <td>0</td>\n",
              "      <td>0</td>\n",
              "      <td>0</td>\n",
              "      <td>...</td>\n",
              "      <td>0</td>\n",
              "      <td>0</td>\n",
              "      <td>0</td>\n",
              "      <td>0</td>\n",
              "      <td>0</td>\n",
              "      <td>0</td>\n",
              "      <td>0</td>\n",
              "      <td>0</td>\n",
              "      <td>0</td>\n",
              "      <td>0</td>\n",
              "    </tr>\n",
              "    <tr>\n",
              "      <th>1</th>\n",
              "      <td>0.441860</td>\n",
              "      <td>0.659166</td>\n",
              "      <td>0</td>\n",
              "      <td>0.674847</td>\n",
              "      <td>0.727273</td>\n",
              "      <td>1</td>\n",
              "      <td>0</td>\n",
              "      <td>0</td>\n",
              "      <td>0</td>\n",
              "      <td>0</td>\n",
              "      <td>...</td>\n",
              "      <td>0</td>\n",
              "      <td>0</td>\n",
              "      <td>0</td>\n",
              "      <td>0</td>\n",
              "      <td>0</td>\n",
              "      <td>0</td>\n",
              "      <td>0</td>\n",
              "      <td>0</td>\n",
              "      <td>0</td>\n",
              "      <td>0</td>\n",
              "    </tr>\n",
              "    <tr>\n",
              "      <th>2</th>\n",
              "      <td>0.372093</td>\n",
              "      <td>0.713196</td>\n",
              "      <td>0</td>\n",
              "      <td>0.695706</td>\n",
              "      <td>0.818182</td>\n",
              "      <td>1</td>\n",
              "      <td>0</td>\n",
              "      <td>0</td>\n",
              "      <td>0</td>\n",
              "      <td>0</td>\n",
              "      <td>...</td>\n",
              "      <td>0</td>\n",
              "      <td>0</td>\n",
              "      <td>0</td>\n",
              "      <td>0</td>\n",
              "      <td>0</td>\n",
              "      <td>0</td>\n",
              "      <td>0</td>\n",
              "      <td>0</td>\n",
              "      <td>0</td>\n",
              "      <td>0</td>\n",
              "    </tr>\n",
              "    <tr>\n",
              "      <th>3</th>\n",
              "      <td>0.465116</td>\n",
              "      <td>0.441301</td>\n",
              "      <td>0</td>\n",
              "      <td>0.700613</td>\n",
              "      <td>0.636364</td>\n",
              "      <td>1</td>\n",
              "      <td>0</td>\n",
              "      <td>0</td>\n",
              "      <td>0</td>\n",
              "      <td>0</td>\n",
              "      <td>...</td>\n",
              "      <td>0</td>\n",
              "      <td>0</td>\n",
              "      <td>0</td>\n",
              "      <td>0</td>\n",
              "      <td>0</td>\n",
              "      <td>0</td>\n",
              "      <td>0</td>\n",
              "      <td>0</td>\n",
              "      <td>0</td>\n",
              "      <td>0</td>\n",
              "    </tr>\n",
              "    <tr>\n",
              "      <th>4</th>\n",
              "      <td>0.348837</td>\n",
              "      <td>0.507173</td>\n",
              "      <td>0</td>\n",
              "      <td>0.559509</td>\n",
              "      <td>0.545455</td>\n",
              "      <td>1</td>\n",
              "      <td>0</td>\n",
              "      <td>0</td>\n",
              "      <td>0</td>\n",
              "      <td>0</td>\n",
              "      <td>...</td>\n",
              "      <td>0</td>\n",
              "      <td>0</td>\n",
              "      <td>0</td>\n",
              "      <td>0</td>\n",
              "      <td>0</td>\n",
              "      <td>0</td>\n",
              "      <td>0</td>\n",
              "      <td>0</td>\n",
              "      <td>0</td>\n",
              "      <td>0</td>\n",
              "    </tr>\n",
              "  </tbody>\n",
              "</table>\n",
              "<p>5 rows × 3574 columns</p>\n",
              "</div>"
            ],
            "text/plain": [
              "        Age  Total_Purchase  Account_Manager     Years  Num_Sites  Churn  \\\n",
              "0  0.465116        0.611781                0  0.763190   0.454545      1   \n",
              "1  0.441860        0.659166                0  0.674847   0.727273      1   \n",
              "2  0.372093        0.713196                0  0.695706   0.818182      1   \n",
              "3  0.465116        0.441301                0  0.700613   0.636364      1   \n",
              "4  0.348837        0.507173                0  0.559509   0.545455      1   \n",
              "\n",
              "   Names_Aaron Meyer  Names_Aaron West  Names_Abigail Gonzalez  \\\n",
              "0                  0                 0                       0   \n",
              "1                  0                 0                       0   \n",
              "2                  0                 0                       0   \n",
              "3                  0                 0                       0   \n",
              "4                  0                 0                       0   \n",
              "\n",
              "   Names_Abigail Jennings  ...  Company_Yates, Martinez and Cox  \\\n",
              "0                       0  ...                                0   \n",
              "1                       0  ...                                0   \n",
              "2                       0  ...                                0   \n",
              "3                       0  ...                                0   \n",
              "4                       0  ...                                0   \n",
              "\n",
              "   Company_Young and Sons  Company_Young, Porter and Hill  Company_Young-Dunn  \\\n",
              "0                       0                               0                   0   \n",
              "1                       0                               0                   0   \n",
              "2                       0                               0                   0   \n",
              "3                       0                               0                   0   \n",
              "4                       0                               0                   0   \n",
              "\n",
              "   Company_Young-Newman  Company_Yu-Murillo  Company_Zamora-Cherry  \\\n",
              "0                     0                   0                      0   \n",
              "1                     0                   0                      0   \n",
              "2                     0                   0                      0   \n",
              "3                     0                   0                      0   \n",
              "4                     0                   0                      0   \n",
              "\n",
              "   Company_Zhang-Brown  Company_Zimmerman Group  \\\n",
              "0                    0                        0   \n",
              "1                    0                        0   \n",
              "2                    0                        0   \n",
              "3                    0                        0   \n",
              "4                    0                        0   \n",
              "\n",
              "   Company_Zuniga, Clark and Shaffer  \n",
              "0                                  0  \n",
              "1                                  0  \n",
              "2                                  0  \n",
              "3                                  0  \n",
              "4                                  0  \n",
              "\n",
              "[5 rows x 3574 columns]"
            ]
          },
          "metadata": {
            "tags": []
          },
          "execution_count": 17
        }
      ]
    },
    {
      "cell_type": "code",
      "metadata": {
        "id": "acUaLfw_-Lp0",
        "outputId": "fc876f0b-fafe-4faa-91f5-00d5570935d8"
      },
      "source": [
        "data['Churn'].value_counts()"
      ],
      "execution_count": null,
      "outputs": [
        {
          "output_type": "execute_result",
          "data": {
            "text/plain": [
              "0    750\n",
              "1    150\n",
              "Name: Churn, dtype: int64"
            ]
          },
          "metadata": {
            "tags": []
          },
          "execution_count": 18
        }
      ]
    },
    {
      "cell_type": "code",
      "metadata": {
        "id": "JoEdZ548-Lp1",
        "outputId": "4421a83c-753d-4434-b1e7-69aaa1fd5753"
      },
      "source": [
        "sns.countplot('Churn', data = data).set_title('Distribution of Data before Sampling');"
      ],
      "execution_count": null,
      "outputs": [
        {
          "output_type": "display_data",
          "data": {
            "image/png": "[encoded data removed]",
            "text/plain": [
              "<Figure size 432x288 with 1 Axes>"
            ]
          },
          "metadata": {
            "tags": [],
            "needs_background": "light"
          }
        }
      ]
    },
    {
      "cell_type": "markdown",
      "metadata": {
        "id": "94UuvXFc-Lp1"
      },
      "source": [
        "## Upsampling"
      ]
    },
    {
      "cell_type": "code",
      "metadata": {
        "id": "jIWOrTLI-Lp2",
        "outputId": "3088fff4-ba60-4083-bcd7-db53c4ffe4a0"
      },
      "source": [
        "X_no = X[X['Churn'] == 0]\n",
        "\n",
        "X_yes = X[X['Churn'] == 1]\n",
        "\n",
        "print(f'No : {len(X_no)} | Yes : {len(X_yes)}')"
      ],
      "execution_count": null,
      "outputs": [
        {
          "output_type": "stream",
          "text": [
            "No : 750 | Yes : 150\n"
          ],
          "name": "stdout"
        }
      ]
    },
    {
      "cell_type": "code",
      "metadata": {
        "id": "gAs4Rb08-Lp2",
        "outputId": "2765ebfc-f0eb-41ac-db1d-22812cbe87a5"
      },
      "source": [
        "X_yes_upsample = X_yes.sample(n = len(X_no), replace = True, random_state = 42)\n",
        "print(f'Upsampled Yes : {len(X_yes_upsample)}')"
      ],
      "execution_count": null,
      "outputs": [
        {
          "output_type": "stream",
          "text": [
            "Upsampled Yes : 750\n"
          ],
          "name": "stdout"
        }
      ]
    },
    {
      "cell_type": "code",
      "metadata": {
        "id": "ip3mowmq-Lp3"
      },
      "source": [
        "X = X_no.append(X_yes_upsample).reset_index(drop = True)"
      ],
      "execution_count": null,
      "outputs": []
    },
    {
      "cell_type": "code",
      "metadata": {
        "id": "QGhtCRwr-Lp4",
        "outputId": "5e131d6e-01d7-45b5-ce92-ddbb90850991"
      },
      "source": [
        "sns.countplot('Churn', data = X).set_title('Distribution After Upsampling');"
      ],
      "execution_count": null,
      "outputs": [
        {
          "output_type": "display_data",
          "data": {
            "image/png": "[encoded data removed]",
            "text/plain": [
              "<Figure size 432x288 with 1 Axes>"
            ]
          },
          "metadata": {
            "tags": [],
            "needs_background": "light"
          }
        }
      ]
    },
    {
      "cell_type": "code",
      "metadata": {
        "id": "WQ_m1zN2-Lp4",
        "outputId": "50e1f79b-5944-487c-d526-305d4d89de76"
      },
      "source": [
        "X['Churn'].value_counts()"
      ],
      "execution_count": null,
      "outputs": [
        {
          "output_type": "execute_result",
          "data": {
            "text/plain": [
              "1    750\n",
              "0    750\n",
              "Name: Churn, dtype: int64"
            ]
          },
          "metadata": {
            "tags": []
          },
          "execution_count": 24
        }
      ]
    },
    {
      "cell_type": "code",
      "metadata": {
        "id": "ltCIzE6G-Lp5"
      },
      "source": [
        "# Split Data into Independent and Dependent Variables :\n",
        "x = X.drop('Churn', axis = 1)\n",
        "y = X['Churn']\n",
        "\n",
        "# Train Test Split\n",
        "from sklearn.model_selection import train_test_split\n",
        "\n",
        "x_train, x_test, y_train, y_test = train_test_split(x,y,test_size = 0.2, random_state = 42)"
      ],
      "execution_count": null,
      "outputs": []
    },
    {
      "cell_type": "markdown",
      "metadata": {
        "id": "4b7viIsA-Lp5"
      },
      "source": [
        "## Data Modeling\n",
        "\n"
      ]
    },
    {
      "cell_type": "markdown",
      "metadata": {
        "id": "MDb2NK8z-Lp6"
      },
      "source": [
        "## Ridge Classifier"
      ]
    },
    {
      "cell_type": "code",
      "metadata": {
        "id": "63l7dwP2-Lp6"
      },
      "source": [
        "from sklearn.linear_model import RidgeClassifier\n",
        "from sklearn.metrics import accuracy_score, confusion_matrix"
      ],
      "execution_count": null,
      "outputs": []
    },
    {
      "cell_type": "code",
      "metadata": {
        "id": "kW9BV3Uh-Lp6"
      },
      "source": [
        "ridge_classifier = RidgeClassifier().fit(x_train, y_train)"
      ],
      "execution_count": null,
      "outputs": []
    },
    {
      "cell_type": "code",
      "metadata": {
        "id": "xX5soKfn-Lp7",
        "outputId": "3ac9bfa8-c5c1-4d7f-c737-7c33e07aa36a"
      },
      "source": [
        "y_prediction = ridge_classifier.predict(x_train)\n",
        "\n",
        "print(f'Accuracy of Ridge Classifier on Train Set : {accuracy_score(y_train, y_prediction)*100:.2f}%')"
      ],
      "execution_count": null,
      "outputs": [
        {
          "output_type": "stream",
          "text": [
            "Accuracy of Ridge Classifier on Train Set : 100.00%\n"
          ],
          "name": "stdout"
        }
      ]
    },
    {
      "cell_type": "code",
      "metadata": {
        "id": "OpAh5Bds-Lp8",
        "outputId": "23da2d8a-c828-40bd-ee84-2e9d3c69ea50"
      },
      "source": [
        "y_prediction = ridge_classifier.predict(x_test)\n",
        "\n",
        "print(f'Accuracy of Ridge Classifier on Test Set : {accuracy_score(y_test, y_prediction)*100:.2f}%')"
      ],
      "execution_count": null,
      "outputs": [
        {
          "output_type": "stream",
          "text": [
            "Accuracy of Ridge Classifier on Test Set : 98.00%\n"
          ],
          "name": "stdout"
        }
      ]
    },
    {
      "cell_type": "markdown",
      "metadata": {
        "id": "VQ_XtPQ_-Lp8"
      },
      "source": [
        "## Random Forest Classifier\n",
        "\n",
        "trying another Different Model"
      ]
    },
    {
      "cell_type": "code",
      "metadata": {
        "id": "zwkLyp9P-Lp9",
        "outputId": "77af48ec-4764-4de9-9017-265858f086d5"
      },
      "source": [
        "from sklearn.ensemble import RandomForestClassifier\n",
        "\n",
        "rfc = RandomForestClassifier(n_estimators = 100, max_depth = 10).fit(x_train, y_train)\n",
        "\n",
        "y_prediction = rfc.predict(x_train)\n",
        "\n",
        "print(f'Accuracy of Random Forest Classifier on Train Set : {accuracy_score(y_train, y_prediction)*100:.2f}%')\n",
        "\n",
        "y_prediction = rfc.predict(x_test)\n",
        "\n",
        "print(f'Accuracy of Random Forest Classifier on Test Set : {accuracy_score(y_test, y_prediction)*100:.2f}%')"
      ],
      "execution_count": null,
      "outputs": [
        {
          "output_type": "stream",
          "text": [
            "Accuracy of Random Forest Classifier on Train Set : 90.08%\n",
            "Accuracy of Random Forest Classifier on Test Set : 85.00%\n"
          ],
          "name": "stdout"
        }
      ]
    },
    {
      "cell_type": "markdown",
      "metadata": {
        "id": "_o_2SfJQ-Lp9"
      },
      "source": [
        "## Grid Search Cross Validation"
      ]
    },
    {
      "cell_type": "markdown",
      "metadata": {
        "id": "YSXmGSOd-Lp-"
      },
      "source": [
        "To Improve the Model applying GridSearch"
      ]
    },
    {
      "cell_type": "code",
      "metadata": {
        "id": "4_cVm77Q-Lp-"
      },
      "source": [
        "from sklearn.model_selection import GridSearchCV\n",
        "\n",
        "parameters  = {'n_estimators' : [150, 200, 250, 300], 'max_depth' : [15, 20, 25]}\n",
        "\n",
        "gsv_rfc = GridSearchCV(estimator = rfc, param_grid = parameters, n_jobs = -1, cv = 5).fit(x_train,y_train)"
      ],
      "execution_count": null,
      "outputs": []
    },
    {
      "cell_type": "code",
      "metadata": {
        "id": "QDNo5yWX-Lp-",
        "outputId": "fb454c4c-3617-4dee-95fc-e997d8ca7b2a"
      },
      "source": [
        "# Best Parameters :\n",
        "\n",
        "gsv_rfc.best_params_"
      ],
      "execution_count": null,
      "outputs": [
        {
          "output_type": "execute_result",
          "data": {
            "text/plain": [
              "{'max_depth': 25, 'n_estimators': 200}"
            ]
          },
          "metadata": {
            "tags": []
          },
          "execution_count": 32
        }
      ]
    },
    {
      "cell_type": "code",
      "metadata": {
        "id": "We116a0j-Lp_",
        "outputId": "6d0499ee-b813-4630-b75c-b6960c2d06cc"
      },
      "source": [
        "# Best Score :\n",
        "\n",
        "print(f'Best Accuracy Score obtained from Grid Search Cross Validation : {gsv_rfc.best_score_*100:.2f}%')"
      ],
      "execution_count": null,
      "outputs": [
        {
          "output_type": "stream",
          "text": [
            "Best Accuracy Score obtained from Grid Search Cross Validation : 90.83%\n"
          ],
          "name": "stdout"
        }
      ]
    },
    {
      "cell_type": "code",
      "metadata": {
        "id": "_Qw8ORdI-LqA",
        "outputId": "ab1344db-4edf-445c-9b3d-143cd19d1cf7"
      },
      "source": [
        "gsv_rfc = GridSearchCV(estimator = rfc, param_grid = parameters, n_jobs = -1, cv = 5).fit(x,y)\n",
        "\n",
        "print(f'Best Accuracy Score obtained from Grid Search Cross Validation : {gsv_rfc.best_score_*100:.2f}%')"
      ],
      "execution_count": null,
      "outputs": [
        {
          "output_type": "stream",
          "text": [
            "Best Accuracy Score obtained from Grid Search Cross Validation : 92.67%\n"
          ],
          "name": "stdout"
        }
      ]
    },
    {
      "cell_type": "markdown",
      "metadata": {
        "id": "Y60LlwHx-LqA"
      },
      "source": [
        "We Have Achieved an Overall Accuracy of 92.27%\n",
        "\n",
        "The Mean Cross Validated Score of The Best Estimator,"
      ]
    },
    {
      "cell_type": "code",
      "metadata": {
        "id": "VzyywJz6-LqB"
      },
      "source": [
        ""
      ],
      "execution_count": null,
      "outputs": []
    }
  ]
}